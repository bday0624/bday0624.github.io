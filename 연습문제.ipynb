{
  "nbformat": 4,
  "nbformat_minor": 0,
  "metadata": {
    "colab": {
      "private_outputs": true,
      "provenance": [],
      "authorship_tag": "ABX9TyM5tM+l+Jo3NF/tS2RWqzgo",
      "include_colab_link": true
    },
    "kernelspec": {
      "name": "python3",
      "display_name": "Python 3"
    },
    "language_info": {
      "name": "python"
    }
  },
  "cells": [
    {
      "cell_type": "markdown",
      "metadata": {
        "id": "view-in-github",
        "colab_type": "text"
      },
      "source": [
        "<a href=\"https://colab.research.google.com/github/bday0624/bday0624.github.io/blob/master/%EC%97%B0%EC%8A%B5%EB%AC%B8%EC%A0%9C.ipynb\" target=\"_parent\"><img src=\"https://colab.research.google.com/assets/colab-badge.svg\" alt=\"Open In Colab\"/></a>"
      ]
    },
    {
      "cell_type": "code",
      "execution_count": null,
      "metadata": {
        "id": "o8ezozKcpWqB"
      },
      "outputs": [],
      "source": [
        "#2장7번\n",
        "a=['Life', 'is', 'too', 'short']\n",
        "b = \" \".join(a) #띄어쓰기를 하고싶으면 \"\"안에 공백을 넣으면 됨, 만약 ,으로 구분하고 싶다면 \",\"이렇게 작성\n",
        "print (b)"
      ]
    },
    {
      "cell_type": "markdown",
      "source": [
        "while 문을 사용해 1 부터 1000 까지의 자연수 중 3 의 배수의 합을 구해 보자.\n"
      ],
      "metadata": {
        "id": "yFvRyFsXqmMH"
      }
    },
    {
      "cell_type": "code",
      "source": [
        "#3장 2번\n",
        "i = 1\n",
        "sum = 0\n",
        "while i <=1000:\n",
        "    if i % 3 == 0:\n",
        "        sum = sum + i\n",
        "    i = i + 1\n",
        "\n",
        "print(sum)"
      ],
      "metadata": {
        "id": "FCRaZAhRqb0R"
      },
      "execution_count": null,
      "outputs": []
    },
    {
      "cell_type": "markdown",
      "source": [
        "for 문을 사용하여 다음과 같이 별 (*) 을 표시하는 프로그램을 작성해 보자.\n",
        "1 *\n",
        "2 **\n",
        "3 ***\n",
        "4 ****\n",
        "5 *****"
      ],
      "metadata": {
        "id": "Em-VtGYsqlFv"
      }
    },
    {
      "cell_type": "code",
      "source": [
        "n = 5\n",
        "\n",
        "for i in range(1, n+1):\n",
        "    print(\"*\"*i)"
      ],
      "metadata": {
        "id": "Gbr9QTfNrUcf"
      },
      "execution_count": null,
      "outputs": []
    },
    {
      "cell_type": "markdown",
      "source": [
        "2장 1번. 홍길동 씨의 과목별 점수는 다음과 같다. 홍길동 씨의 평균 점수를 구해 보자.\n",
        "과목 점수\n",
        "국어 80\n",
        "영어 75\n",
        "수학 55"
      ],
      "metadata": {
        "id": "2n9Qa710sDlX"
      }
    },
    {
      "cell_type": "code",
      "source": [],
      "metadata": {
        "id": "yPvdx2rgsJNn"
      },
      "execution_count": null,
      "outputs": []
    }
  ]
}